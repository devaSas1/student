{
 "cells": [
  {
   "cell_type": "markdown",
   "metadata": {},
   "source": [
    "---\n",
    "toc: true\n",
    "comments: true\n",
    "layout: post\n",
    "title: MCQ 2021  Missed Questions\n",
    "description: The questions i missed on the CollegeBoard Practice MC \n",
    "type: hacks\n",
    "courses: { compsci: {week: 26} }\n",
    "---\n"
   ]
  },
  {
   "cell_type": "markdown",
   "metadata": {},
   "source": [
    "# Reflection\n",
    "\n",
    "For the most part, I've been doing quite well on the quiz in the beginning. I missed 5 questions due to a wrong answer out of 50 questions I answered. \n",
    "However, I didn't finish the CB MCQ by 4:30 and I missed 20 questions after question 50 because I didn't answer them. \n",
    "I retook the test and got 65/70. Here's an overview of what I missed"
   ]
  },
  {
   "cell_type": "markdown",
   "metadata": {},
   "source": [
    "## 8. Which of the following best describes a direct benefit in using redundant routing on the Internet?\n",
    "\n",
    "### My Answer/Why it's Wrong:\n",
    "Redundancy enables messages to be transmitted with as few packets as possible. This expression will evaluate to true for restaurants with the correct price range or with the correct customer rating. The intent is for the expression to evaluate to true only for restaurants with the correct price range and the correct customer rating.\n",
    "\n",
    "\n",
    "### Answer:\n",
    "Redundancy prevents network communications from being intercepted by unauthorized individuals."
   ]
  },
  {
   "cell_type": "markdown",
   "metadata": {},
   "source": [
    "## 15. Use drawLine procedure to draw figure\n",
    "### Question: \n",
    "![](images/Q15.png)\n",
    "### My Answer/Why it's Wrong:\n",
    "\n",
    "D. Not sure what I did wrong, but I assume it's an error i made when thinking about it algoritmically. I think it would be useful to run through the algorithm in detail\n",
    "\n",
    "\n",
    "### Answer:\n",
    "A"
   ]
  },
  {
   "cell_type": "markdown",
   "metadata": {
    "vscode": {
     "languageId": "plaintext"
    }
   },
   "source": [
    "## 36. Why Information is Hard to Remove from the Internet\n",
    "**Question: Individuals sometimes attempt to remove personal information from the Internet. Which of the following is the LEAST likely reason the personal information is hard to remove?** \n",
    "\n",
    "\n",
    "\n",
    "**My Answer/Why it's Wrong:** A. Personal information found online can be redistributed via social media posts, e-mail, and other methods. I misread the question and answered the MOST likely reason info is hard to remove\n",
    "\n",
    "**Answer:** D. All personal information is stored online using authentication measures, making the information hard to access."
   ]
  },
  {
   "cell_type": "markdown",
   "metadata": {},
   "source": [
    "## 39.  Number of bits needed for item inventory\n",
    "**Question: A store uses binary numbers to assign a unique binary sequence to each item in its inventory. What is the minimum number of bits required for each binary sequence if the store has between 75 and 100 items in its inventory?** \n",
    "\n",
    "\n",
    "**My Answer/Why it's Wrong:** A. Personal information found online can be redistributed via social media posts, e-mail, and other methods. I misread the question and answered the MOST likely reason info is hard to remove\n",
    "\n",
    "**Answer:** D Using 6 bits will only allow for up to 64 sequences because 2^6 = 64\n",
    "Using 7 bits will allow for up to 128 sequences because 2^7 = 128\n",
    "Therefore, a minimum of 7 bits are needed.\n",
    "\n",
    "\n"
   ]
  },
  {
   "cell_type": "markdown",
   "metadata": {},
   "source": [
    "## 44. Question: A program developed for a Web store represents customer account balances using a format that approximates real numbers. While testing the program, a software developer discovers that some values appear to be mathematically imprecise. Which of the following is the most likely cause of the imprecision?\n",
    "\n",
    "\n",
    "**My Answer/Why it's Wrong:** C. Incorrect. Programming languages typically represent numbers with a fixed number of bits. The use of a fixed number of bits can lead to overflow or round-off errors.\n",
    "\n",
    "\n",
    "**Answer:** B. The account balances are represented using a fixed number of bits, resulting in round-off errors.\n"
   ]
  },
  {
   "cell_type": "markdown",
   "metadata": {},
   "source": [
    "## My plan to mitigate these mistakes\n",
    "\n",
    "The only way I see myself fixing these kinds of mistakes is by repeated practice. There isn't a particular topic I need to study per se, but I definetely need to learn how to **read the question carefully** and take things slow and think about the problem **algorithmically**."
   ]
  }
 ],
 "metadata": {
  "language_info": {
   "name": "python"
  }
 },
 "nbformat": 4,
 "nbformat_minor": 2
}
