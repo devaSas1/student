{
 "cells": [
  {
   "cell_type": "markdown",
   "metadata": {},
   "source": [
    "---\n",
    "toc: true\n",
    "comments: true\n",
    "layout: post\n",
    "title: Algorythmic Dance Show\n",
    "description: All the algorithms that were discussed in this play \n",
    "type: hacks\n",
    "courses: { compsci: {week: 26} }\n",
    "---"
   ]
  },
  {
   "cell_type": "markdown",
   "metadata": {},
   "source": [
    "# Bubble Sort\n",
    "\n",
    "1. Simple sorting algorithm that repeatedly steps through the list, compares adjacent elements, and swaps them if they are in the wrong order.\n",
    "\n",
    "2. It gets its name because smaller elements \"bubble\" to the top (beginning of the list) while larger elements \"sink\" to the bottom (end of the list) after each iteration.\n",
    "\n",
    "3. The algorithm iterates through the list multiple times until no more swaps are needed, indicating that the list is sorted.\n",
    "\n",
    "4. Bubble sort has a time complexity of O(n^2) in the worst-case scenario, making it inefficient for large lists but suitable for small datasets or educational purposes due to its simplicity.\n",
    "\n",
    "5. Despite its inefficiency, bubble sort is easy to understand and implement, making it a common example for teaching sorting algorithms and computer science concepts."
   ]
  },
  {
   "cell_type": "markdown",
   "metadata": {},
   "source": [
    "# Insertion Sort\n",
    "\n",
    "1. Sorting by comparison and insertion of elements based on adjacent elements\n",
    "\n",
    "2. Time complexity: Worst Case O(N^2), Best Case O(1)\n",
    "\n",
    "3. Somewhat inaccurate in first few iterations"
   ]
  },
  {
   "cell_type": "markdown",
   "metadata": {},
   "source": [
    "# Quicksort\n",
    "\n",
    "1. Sorting by pivot. Pivot finds its position along the line. This splits array into two. Qucksort is called recursively and resulting subarrays are also quicksorted\n",
    "\n",
    "2. Time complexity \n",
    "- worst case scenario O(NlogN)\n"
   ]
  },
  {
   "cell_type": "markdown",
   "metadata": {},
   "source": [
    "# Merge Sort\n",
    "1. Time complexity O(NlogN)\n",
    "2. Split arrays into groups of 2. Then sort each group, then combine sort each time multiplying size by 2 (4, 8, 16, ...)\n"
   ]
  },
  {
   "cell_type": "markdown",
   "metadata": {},
   "source": [
    "# Selection sort\n",
    "\n",
    "1. Move through the list, and select the smallest value to swap with the front.\n",
    "2. O(N^2) always\n"
   ]
  },
  {
   "cell_type": "markdown",
   "metadata": {},
   "source": []
  }
 ],
 "metadata": {
  "language_info": {
   "name": "python"
  }
 },
 "nbformat": 4,
 "nbformat_minor": 2
}
