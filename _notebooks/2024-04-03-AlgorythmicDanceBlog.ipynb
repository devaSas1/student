{
 "cells": [
  {
   "cell_type": "markdown",
   "metadata": {},
   "source": [
    "---\n",
    "toc: true\n",
    "comments: true\n",
    "layout: post\n",
    "title: Algorythmic Dance Show\n",
    "description: All the algorithms that were discussed in this play \n",
    "type: hacks\n",
    "courses: { compsci: {week: 26} }\n",
    "---"
   ]
  },
  {
   "cell_type": "markdown",
   "metadata": {},
   "source": [
    "# Bubble Sort\n",
    "\n",
    "1. Simple sorting algorithm that repeatedly steps through the list, compares adjacent elements, and swaps them if they are in the wrong order.\n",
    "\n",
    "2. It gets its name because smaller elements \"bubble\" to the top (beginning of the list) while larger elements \"sink\" to the bottom (end of the list) after each iteration.\n",
    "\n",
    "3. The algorithm iterates through the list multiple times until no more swaps are needed, indicating that the list is sorted.\n",
    "\n",
    "4. Bubble sort has a time complexity of O(n^2) in the worst-case scenario, making it inefficient for large lists but suitable for small datasets or educational purposes due to its simplicity.\n",
    "\n",
    "5. Despite its inefficiency, bubble sort is easy to understand and implement, making it a common example for teaching sorting algorithms and computer science concepts."
   ]
  },
  {
   "cell_type": "code",
   "execution_count": null,
   "metadata": {
    "vscode": {
     "languageId": "plaintext"
    }
   },
   "outputs": [],
   "source": [
    "\n"
   ]
  }
 ],
 "metadata": {
  "language_info": {
   "name": "python"
  }
 },
 "nbformat": 4,
 "nbformat_minor": 2
}
