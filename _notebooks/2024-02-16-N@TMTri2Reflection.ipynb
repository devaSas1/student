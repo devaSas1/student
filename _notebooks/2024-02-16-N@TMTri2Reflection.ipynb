{
 "cells": [
  {
   "cell_type": "markdown",
   "metadata": {},
   "source": [
    "---\n",
    "toc: true\n",
    "comments: false\n",
    "layout: post\n",
    "title: N@TM Reflection\n",
    "description: A reflection of Trimester 2 N@TM \n",
    "type: hacks\n",
    "courses: { compsci: {week: 22} }\n",
    "---\n"
   ]
  },
  {
   "cell_type": "markdown",
   "metadata": {},
   "source": [
    "# N@TM Reflection\n",
    "*Feb 16, 2024* | **2 min read**\n",
    "\n",
    "## What we did well…\n",
    "\n",
    "- They were impressed by our login/sign-up capabilities and were impressed by the way our system could make and process art.\n",
    "- Our UI was pretty clean overall.\n",
    "\n",
    "## What we can improve on…\n",
    "\n",
    "- We could fix up the frontend to be a lot more modern\n",
    "- We could've been more interactive with more people. We could've called more people over to us to present our project.\n",
    "- We could add more features relating to art\n",
    "\n",
    "![](images/N@TM.png)\n",
    "\n",
    "I saw a CSP project which was a website where it can help people buy real estate. I was very impressed by frontend and how clean it was. It used an AI algorithm to help people buy real estate and I can easily see how this could be used in the future. It was a well executed project in all its features (e.g. inputting users, display users, sorting users, etc.)\n",
    "\n",
    "Outside of Compsci, I saw a very beautiful painting of an old man in East Asian Attire with a Conical Hat who is fishing. It's very serene and ethereal and I really love the aesthetic.\n",
    "\n"
   ]
  }
 ],
 "metadata": {
  "language_info": {
   "name": "python"
  }
 },
 "nbformat": 4,
 "nbformat_minor": 2
}
