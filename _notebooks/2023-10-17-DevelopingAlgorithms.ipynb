{
 "cells": [
  {
   "cell_type": "markdown",
   "metadata": {},
   "source": [
    "---\n",
    "toc: true \n",
    "comments: false \n",
    "layout: post\n",
    "title: Devloping Algorithims \n",
    "hw description: Devloping Algorithims hw \n",
    "type: hacks \n",
    "courses: { compsci: {week: 9} }\n",
    "---"
   ]
  },
  {
   "cell_type": "code",
   "execution_count": null,
   "metadata": {},
   "outputs": [],
   "source": [
    "import statistics\n",
    "\n",
    "# List of test grades\n",
    "test_grades = [85, 92, 78, 90, 88, 76, 94, 89, 81, 87]\n",
    "\n",
    "# Calculate the median\n",
    "median_grade = statistics.median(test_grades)\n",
    "\n",
    "# Print the median test grade\n",
    "print(f\"The median test grade is: {median_grade}\")"
   ]
  },
  {
   "cell_type": "code",
   "execution_count": 2,
   "metadata": {},
   "outputs": [
    {
     "name": "stdout",
     "output_type": "stream",
     "text": [
      "Welcome to the Guess the Number game!\n",
      "I'm thinking of a number between 1 and 100.\n",
      "Too low. Try again.\n",
      "Too high. Try again.\n",
      "Too high. Try again.\n",
      "Too high. Try again.\n",
      "Congratulations! You guessed the number 6 in 5 tries.\n"
     ]
    }
   ],
   "source": [
    "import random\n",
    "\n",
    "def guess_the_number():\n",
    "    # Generate a random number between 1 and 100\n",
    "    secret_number = random.randint(1, 100)\n",
    "    \n",
    "    # Set the initial number of tries\n",
    "    tries = 0\n",
    "    \n",
    "    print(\"Welcome to the Guess the Number game!\")\n",
    "    print(\"I'm thinking of a number between 1 and 100.\")\n",
    "    \n",
    "    while True:\n",
    "        # Ask the player to guess the number\n",
    "        guess = int(input(\"Enter your guess: \"))\n",
    "        \n",
    "        # Increment the number of tries\n",
    "        tries += 1\n",
    "        \n",
    "        # Check if the guess is correct\n",
    "        if guess == secret_number:\n",
    "            print(f\"Congratulations! You guessed the number {secret_number} in {tries} tries.\")\n",
    "            break\n",
    "        elif guess < secret_number:\n",
    "            print(\"Too low. Try again.\")\n",
    "        else:\n",
    "            print(\"Too high. Try again.\")\n",
    "\n",
    "if __name__ == \"__main__\":\n",
    "    guess_the_number()\n"
   ]
  }
 ],
 "metadata": {
  "kernelspec": {
   "display_name": "Python 3",
   "language": "python",
   "name": "python3"
  },
  "language_info": {
   "codemirror_mode": {
    "name": "ipython",
    "version": 3
   },
   "file_extension": ".py",
   "mimetype": "text/x-python",
   "name": "python",
   "nbconvert_exporter": "python",
   "pygments_lexer": "ipython3",
   "version": "3.11.4"
  }
 },
 "nbformat": 4,
 "nbformat_minor": 2
}
