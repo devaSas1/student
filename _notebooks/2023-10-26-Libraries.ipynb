{
 "cells": [
  {
   "cell_type": "markdown",
   "metadata": {},
   "source": [
    "---\n",
    "toc: true \n",
    "comments: false \n",
    "layout: post\n",
    "title: Libraries \n",
    "hw description: Library hw \n",
    "type: hacks \n",
    "courses: { compsci: {week: 7} }\n",
    "---"
   ]
  },
  {
   "cell_type": "code",
   "execution_count": null,
   "metadata": {
    "vscode": {
     "languageId": "plaintext"
    }
   },
   "outputs": [],
   "source": [
    "impoer"
   ]
  },
  {
   "cell_type": "markdown",
   "metadata": {},
   "source": [
    "# Homework 1\n",
    "NumPy\n",
    "\n",
    "## numpy.array():\n",
    "    This function creates a NumPy array from a list or other iterable, allowing you to perform vectorized operations on the data.\n",
    "\n",
    "## numpy.mean():\n",
    "    This function calculates the mean (average) of the elements in a NumPy array, which is useful for statistical analysis.\n",
    "\n",
    "Pandas\n",
    "## pandas.read_csv(): \n",
    "    This function reads data from a CSV file and creates a DataFrame, which is a tabular data structure. It's handy for loading and working with external data.\n",
    "## pandas.groupby(): \n",
    "    This function allows you to group data in a DataFrame based on one or more columns, enabling aggregation and summary statistics on grouped data.\n",
    "\n",
    "Matplotlib\n",
    "\n",
    "## matplotlib.pyplot.plot():\n",
    "    This function is used to create line plots. You can specify the data points and customize the appearance of the plot with various parameters.\n",
    "## matplotlib.pyplot.xlabel():\n",
    "    This function sets the label for the x-axis, which is essential for providing context to your plots and making them more informative.\n"
   ]
  },
  {
   "cell_type": "markdown",
   "metadata": {},
   "source": [
    "## Homework 2: API Research\n",
    "I researched the SpaceX API (https://api.spacexdata.com/v4/). One unique aspect I found in the documentation is the extensive information it provides about SpaceX's missions, rockets, launches, and more. It's a RESTful API that allows users to access a wealth of data related to SpaceX's activities, including historical and real-time data.\n",
    "\n",
    "Scenario:\n",
    "Imagine you are building a SpaceX mission tracker application. You can use the SpaceX API to fetch information about upcoming launches, launch details, rocket specifications, and mission outcomes. Users can search for specific missions, view launch schedules, and get notifications about upcoming launches. This app could provide space enthusiasts with up-to-date information about SpaceX missions and their outcomes.\n",
    "\n",
    "\n"
   ]
  },
  {
   "cell_type": "code",
   "execution_count": null,
   "metadata": {},
   "outputs": [],
   "source": [
    "import pandas as pd  # Importing the Pandas library for data manipulation\n",
    "\n",
    "# Create a DataFrame with sample data\n",
    "data = {'Name': ['Alice', 'Bob', 'Charlie'],\n",
    "        'Age': [25, 30, 22]}\n",
    "df = pd.DataFrame(data)\n",
    "\n",
    "# Using a prefixed function\n",
    "mean_age = df['Age'].mean()  # Calculate the mean age\n",
    "print(\"Mean Age:\", mean_age)\n",
    "\n",
    "# Using a prefixed variable\n",
    "num_rows = df.shape[0]  # Get the number of rows in the DataFrame\n",
    "print(\"Number of Rows:\", num_rows)\n"
   ]
  },
  {
   "cell_type": "markdown",
   "metadata": {},
   "source": [
    "In this example, we imported the Pandas library, created a DataFrame, and used the prefixed function df['Age'].mean() to calculate the mean age and the prefixed variable df.shape[0] to get the number of rows in the DataFrame."
   ]
  }
 ],
 "metadata": {
  "language_info": {
   "name": "python"
  }
 },
 "nbformat": 4,
 "nbformat_minor": 2
}
