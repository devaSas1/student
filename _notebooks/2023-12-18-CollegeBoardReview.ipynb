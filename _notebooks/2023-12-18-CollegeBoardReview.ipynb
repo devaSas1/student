{
 "cells": [
  {
   "cell_type": "markdown",
   "metadata": {},
   "source": [
    "---\n",
    "toc: true \n",
    "comments: true \n",
    "layout: post\n",
    "title: College Board Review  \n",
    "hw description: Going over mistakes\n",
    "type: hacks \n",
    "courses: { compsci: {week: 8} }\n",
    "---"
   ]
  },
  {
   "cell_type": "markdown",
   "metadata": {},
   "source": [
    "# Notes\n",
    "\n",
    "### Summary of \"Computing Bias\"\n",
    "\n",
    "**Overview:**\n",
    "- **Computing Biases**: Refers to biases in applications influenced by human preferences. These biases may be present due to algorithmic biases or biases in the data used by the innovation. It's crucial for programmers to act to minimize these biases.\n",
    "\n",
    "**Types of Computing Bias:**\n",
    "1. **Data Bias**: Occurs when data does not accurately represent real-world values. For example, a sample drawn from Texas might not represent the entire US population.\n",
    "2. **Human Bias**: Programmers' personal biases can influence the development of programs. For instance, a team proficient in a specific programming language might favor candidates with expertise in that language.\n",
    "\n",
    "**Explicit vs. Implicit Data:**\n",
    "- **Explicit Data**: Directly obtained from user inputs (e.g., responses to a video survey).\n",
    "- **Implicit Data**: Inferred from user actions, like watching certain content on Netflix. This can lead to biases, such as promoting Netflix exclusives more prominently.\n",
    "\n",
    "**Intentional vs. Unintentional Bias:**\n",
    "- **Intentional Bias**: Deliberately designed into systems, like loan software favoring certain demographics based on historical loan repayment trends.\n",
    "- **Unintentional Bias**: Occurs inadvertently due to overlooked factors, evident in apps like social media where algorithms might create biases.\n",
    "\n",
    "**Mitigation Strategies:**\n",
    "- Employ various data sources and adopt strategies like Pre-Processing, In-processing, and Post-Processing to check, adjust, and ensure fairness and accuracy in data and algorithms.\n",
    "- Input Correction, Classifier Correction, and Output Correction are also vital for adjusting and refining data and models to reduce biases.\n"
   ]
  },
  {
   "cell_type": "code",
   "execution_count": null,
   "metadata": {
    "vscode": {
     "languageId": "plaintext"
    }
   },
   "outputs": [],
   "source": []
  }
 ],
 "metadata": {
  "language_info": {
   "name": "python"
  }
 },
 "nbformat": 4,
 "nbformat_minor": 2
}
