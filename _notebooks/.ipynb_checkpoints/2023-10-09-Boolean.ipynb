{
 "cells": [
  {
   "cell_type": "code",
   "execution_count": null,
   "metadata": {},
   "outputs": [],
   "source": [
    "#popcorn hack\n",
    "grade1 = 10\n",
    "grade2 = 80"
   ]
  },
  {
   "cell_type": "code",
   "execution_count": 1,
   "metadata": {},
   "outputs": [
    {
     "name": "stdout",
     "output_type": "stream",
     "text": [
      "You may leave\n"
     ]
    }
   ],
   "source": [
    "grade = 100\n",
    "if grade>=80:\n",
    "    print(\"You may leave\")\n",
    "else:\n",
    "    print(\"Get yo dumbass on man\")"
   ]
  },
  {
   "cell_type": "code",
   "execution_count": null,
   "metadata": {},
   "outputs": [],
   "source": [
    "#Homework 1\n",
    "citizen = False\n",
    "age = 24\n",
    "if citizen and age >=18:# if both conditions are met\n",
    "    print(\"you are eligible to vote\")\n",
    "else:\n",
    "    print(\"You are not eligible to vote\")#if either condition isnt met"
   ]
  },
  {
   "cell_type": "code",
   "execution_count": 2,
   "metadata": {},
   "outputs": [
    {
     "name": "stdout",
     "output_type": "stream",
     "text": [
      "Your salary is now 262500.0\n"
     ]
    }
   ],
   "source": [
    "#Homework 2\n",
    "salary = int(input())#user input\n",
    "years = int(input())#user input\n",
    "if years >= 5:#checks if service is above 5 years\n",
    "    salary = salary*1.05 #adds 5% bonus\n",
    "    print(\"Your salary is now\", salary)\n",
    "else:\n",
    "    print(\"no bonus\")"
   ]
  },
  {
   "cell_type": "code",
   "execution_count": 5,
   "metadata": {},
   "outputs": [
    {
     "name": "stdout",
     "output_type": "stream",
     "text": [
      "C\n"
     ]
    }
   ],
   "source": [
    "#Homework 3\n",
    "grade = int(input())\n",
    "if grade<25:\n",
    "    print(\"F\")\n",
    "if 25<=grade<45:\n",
    "    print(\"E\")\n",
    "if 45<=grade<50:\n",
    "    print(\"D\")\n",
    "if 50<=grade<60:\n",
    "    print(\"C\")\n",
    "if 60<=grade<80:\n",
    "    print(\"B\")\n",
    "if grade>=80:\n",
    "    print(\"A\")\n"
   ]
  }
 ],
 "metadata": {
  "kernelspec": {
   "display_name": "Python 3",
   "language": "python",
   "name": "python3"
  },
  "language_info": {
   "codemirror_mode": {
    "name": "ipython",
    "version": 3
   },
   "file_extension": ".py",
   "mimetype": "text/x-python",
   "name": "python",
   "nbconvert_exporter": "python",
   "pygments_lexer": "ipython3",
   "version": "3.11.4"
  }
 },
 "nbformat": 4,
 "nbformat_minor": 2
}
