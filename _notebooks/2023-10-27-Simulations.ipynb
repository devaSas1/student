{
 "cells": [
  {
   "cell_type": "markdown",
   "metadata": {},
   "source": [
    "---\n",
    "toc: true \n",
    "comments: false \n",
    "layout: post\n",
    "title: Simulations \n",
    "hw description: Library hw \n",
    "type: hacks \n",
    "courses: { compsci: {week: 7} }\n",
    "---"
   ]
  },
  {
   "cell_type": "markdown",
   "metadata": {},
   "source": [
    "# Problem 1\n",
    "sort 4 numbers from lowest to highest"
   ]
  },
  {
   "cell_type": "code",
   "execution_count": 3,
   "metadata": {},
   "outputs": [
    {
     "name": "stdout",
     "output_type": "stream",
     "text": [
      "[1, 2, 3, 4]\n"
     ]
    }
   ],
   "source": [
    "nums = [4,1,3,2] \n",
    "for i in range(len(nums)-1): \n",
    "    for j in range(i+1,len(nums)): \n",
    "        if nums[i] > nums[j]: \n",
    "            a = nums[i] \n",
    "            nums[i] = nums[j] \n",
    "            nums[j] = a \n",
    "print(nums)\n",
    "\n"
   ]
  },
  {
   "cell_type": "markdown",
   "metadata": {},
   "source": [
    "# Problem 2\n",
    "Benefits of simulations:\n",
    "- Much less expensive than actually conducting the experiments\n",
    "- Easier to repeat \n",
    "- Safer to conduct\n",
    "\n",
    "Drawback of simulations:\n",
    "\n",
    "Simulations only provide estimated results from models, so conduct experiments will still produce the more accurate results."
   ]
  },
  {
   "cell_type": "markdown",
   "metadata": {},
   "source": [
    "# Problem 3\n",
    "Facebook's News Feed is a prime example of algorithmic enhancement. The News Feed algorithm prioritizes content based on a variety of factors, such as:\n",
    "\n",
    "1. Relevance: The algorithm predicts what posts are most relevant to the user, based on their past interactions, likes, comments, and shares. This ensures that users see more of what they are interested in, which improves engagement.\n",
    "\n",
    "2. Timeliness: Posts that are more recent are given priority, as they are considered more likely to be relevant to the user. This keeps the content fresh and timely.\n",
    "\n",
    "3. Relationships: Content from friends and pages that a user interacts with frequently is prioritized. This means that if you often engage with a friend's posts or a particular page's content, you're more likely to see their posts in your News Feed.\n",
    "\n",
    "4. Content Type: The algorithm also considers what type of content a user prefers, whether it's photos, videos, or links. By learning these preferences, the platform can tailor the News Feed to include more of the content type that the user tends to engage with.\n",
    "\n",
    "5. Engagement: Posts that receive a lot of likes, comments, and shares, especially from the user's friends, are more likely to appear in the News Feed. This is based on the assumption that high-engagement content is more interesting to users."
   ]
  }
 ],
 "metadata": {
  "kernelspec": {
   "display_name": "Python 3",
   "language": "python",
   "name": "python3"
  },
  "language_info": {
   "codemirror_mode": {
    "name": "ipython",
    "version": 3
   },
   "file_extension": ".py",
   "mimetype": "text/x-python",
   "name": "python",
   "nbconvert_exporter": "python",
   "pygments_lexer": "ipython3",
   "version": "3.11.4"
  },
  "orig_nbformat": 4
 },
 "nbformat": 4,
 "nbformat_minor": 2
}
