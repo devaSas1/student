{
 "cells": [
  {
   "cell_type": "code",
   "execution_count": 3,
   "metadata": {},
   "outputs": [
    {
     "name": "stdout",
     "output_type": "stream",
     "text": [
      "[1, 2, 3, 4, 5, 6, 7]\n"
     ]
    }
   ],
   "source": [
    "lst = [1,2,3,4,6,7]\n",
    "lst.append(5)\n",
    "lst = sorted(lst)\n",
    "print(lst)"
   ]
  },
  {
   "cell_type": "code",
   "execution_count": 4,
   "metadata": {},
   "outputs": [
    {
     "name": "stdout",
     "output_type": "stream",
     "text": [
      "1\n",
      "1\n",
      "0\n"
     ]
    }
   ],
   "source": [
    "def min_operations_to_moo(Q, strings):\n",
    "    def operations_to_moo(s):\n",
    "        target = \"MOO\"\n",
    "        while len(s) > 3:\n",
    "            if s[0] != target[0] and s[-1] != target[-1]:\n",
    "                return -1\n",
    "            elif s[0] != target[0]:\n",
    "                s = s[1:]\n",
    "            elif s[-1] != target[-1]:\n",
    "                s = s[:-1]\n",
    "            else:\n",
    "                s = s[1:] if s[1] == target[1] else s[:-1]\n",
    "\n",
    "        if s == target:\n",
    "            return 0\n",
    "\n",
    "        operations = 0\n",
    "        for i in range(len(s)):\n",
    "            if s[i] != target[i]:\n",
    "                operations += 1\n",
    "        return operations\n",
    "\n",
    "    results = []\n",
    "    for string in strings:\n",
    "        results.append(operations_to_moo(string))\n",
    "    return results\n",
    "\n",
    "\n",
    "# Reading the number of test cases\n",
    "Q = int(input(\"Enter number of test cases: \"))\n",
    "strings = [input() for _ in range(Q)]\n",
    "\n",
    "# Get the results and print them\n",
    "results = min_operations_to_moo(Q, strings)\n",
    "for res in results:\n",
    "    print(res)\n"
   ]
  }
 ],
 "metadata": {
  "kernelspec": {
   "display_name": "Python 3",
   "language": "python",
   "name": "python3"
  },
  "language_info": {
   "codemirror_mode": {
    "name": "ipython",
    "version": 3
   },
   "file_extension": ".py",
   "mimetype": "text/x-python",
   "name": "python",
   "nbconvert_exporter": "python",
   "pygments_lexer": "ipython3",
   "version": "3.11.4"
  }
 },
 "nbformat": 4,
 "nbformat_minor": 2
}
