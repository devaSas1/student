{
 "cells": [
  {
   "cell_type": "markdown",
   "metadata": {},
   "source": [
    "---\n",
    "toc: true\n",
    "comments: false\n",
    "layout: post\n",
    "title: Individual Review Part 2\n",
    "description: A lesson on the safe computing \n",
    "type: hacks\n",
    "courses: { compsci: {week: 15} }\n",
    "---\n"
   ]
  },
  {
   "cell_type": "markdown",
   "metadata": {},
   "source": [
    "# Trimester 1 Review \n",
    "During the first Trimester of AP CSP, I worked with Tarun, Shuban, and Hayden to build a website that uses our own bespoke machine learning algorithm to decipher a variety of different ciphers. With my newly found knowledge in HTML, I worked on the frontend of the project, serving as a wonderful learning experience"
   ]
  },
  {
   "cell_type": "markdown",
   "metadata": {},
   "source": [
    "# Trimester 2 Review\n",
    "In the second trimester, I encountered a small hiccup. That is, most of my old teammates found other teammates to work with. For that reason, I joined Jonathan, Sri, and Soham. We began work on our Binary Project and we are excited to introduce the development of our next big project, VividFusion, a hub where artists can share their creative passions on an image board."
   ]
  },
  {
   "cell_type": "markdown",
   "metadata": {},
   "source": [
    "# Peer Grading\n",
    "\n",
    "This is what we graded each other:\n",
    "\n",
    "Deva: .965\n",
    "Sri: .97\n",
    "Soham: .965\n",
    "Joanthan Liu: .97\n"
   ]
  },
  {
   "cell_type": "markdown",
   "metadata": {},
   "source": [
    "# College Board Quiz"
   ]
  }
 ],
 "metadata": {
  "language_info": {
   "name": "python"
  }
 },
 "nbformat": 4,
 "nbformat_minor": 2
}
