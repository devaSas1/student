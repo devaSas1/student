{
 "cells": [
  {
   "cell_type": "markdown",
   "metadata": {},
   "source": [
    "---\n",
    "toc: true\n",
    "comments: true\n",
    "layout: post\n",
    "title: CSP CPT Documentation\n",
    "description: Data Structure Writeup\n",
    "type: hacks\n",
    "courses: { compsci: {week: 30} }\n",
    "---"
   ]
  },
  {
   "cell_type": "markdown",
   "metadata": {},
   "source": [
    "## Blog Python Model code and SQLite Database.\n",
    "- From VSCode using SQLite3 Editor, show your unique collection/table in database, display rows and columns in the table of the SQLite database.\n",
    "[![SQLDatabase.png](https://i.postimg.cc/kgpLtMHQ/SQLDatabase.png)](https://postimg.cc/pmKswvRr)\n",
    "- From VSCode model, show your unique code that was created to initialize table and create test data.\n",
    "[![Initialize-Data-Table.png](https://i.postimg.cc/xCTHDY0Z/Initialize-Data-Table.png)](https://postimg.cc/KKw4B637)"
   ]
  },
  {
   "cell_type": "markdown",
   "metadata": {},
   "source": [
    "## Lists and Dictionaries.\n",
    "\n",
    "- Dictionaries and Lists are used in the user file as there is a dictionary with each key's values being a list after the values are queried from the database. Here you can see both being used\n",
    "\n",
    "[![imglst](https://i.postimg.cc/ZYP5yjP5/Screenshot-2024-04-17-at-11-12-19-PM.png)](https://postimg.cc/yWdHMmrM)\n",
    "\n",
    "[![Screenshot-2024-04-19-at-9-59-40-AM.png](https://i.postimg.cc/tCqn5T4j/Screenshot-2024-04-19-at-9-59-40-AM.png)](https://postimg.cc/RqY0Cvts)\n",
    "\n",
    "This image shows the painting list and how each painting(the purple 0, 1, 2, 3, etc) has an image, an id, and userID attributed to the painting. The purple 0 numbers are associated with a painting and in painting, we have its ID, the image encoded as base 64, and UserID. \n",
    "\n"
   ]
  },
  {
   "cell_type": "markdown",
   "metadata": {},
   "source": [
    "## Python API code, Postman/JSON\n",
    "\n",
    "- In VSCode, show Python API code definition for request and response using GET, POST, UPDATE methods. Discuss algorithmic condition used to direct request to appropriate Python method based on request method.\n",
    "\n",
    "[![postfunction-API.png](https://i.postimg.cc/Y9zxwbKX/postfunction-API.png)](https://postimg.cc/bDdnx0vb)\n",
    "\n",
    "Above is the POST method for the HousePriceAPI class. Either one is selected based on \"if\" the user selects the Public or Private designs button on the website page.\n"
   ]
  },
  {
   "cell_type": "markdown",
   "metadata": {
    "vscode": {
     "languageId": "plaintext"
    }
   },
   "source": [
    "## APIs and JSON\n",
    "\n",
    "The API is used to communicate between the frontend and the server. GET requests are used to retrieve data from the server and POST requests is more dynamic as it can be used for various purposes. In the context of the project it is used to set a value in the database, and retrieve data.\n",
    "\n",
    "JSON or Javascript Object Notation is used to transmit a \"name\" for the value which is the key, and the value itself, so if I wanted to recieve a username, the key is \"username\" and the value would be the actual username value"
   ]
  },
  {
   "cell_type": "markdown",
   "metadata": {},
   "source": [
    "**Example of GET**\n",
    "[![GETfunction.png](https://i.postimg.cc/P5k2JXM7/GETfunction.png)](https://postimg.cc/LnNz0Mwk)\n",
    "\n",
    "This function gets the painting from database and returns it  \n",
    "\n",
    "**Example of POST**\n",
    "[![POSTfunction.png](https://i.postimg.cc/7PFNtHjL/POSTfunction.png)](https://postimg.cc/XXgFpbjM)\n",
    "\n",
    "This first checks if the user has authentication to post and once verified, it will upload the image\n",
    "\n",
    "**Token Required function**\n",
    "[![Token-Required.png](https://i.postimg.cc/NMy1bS4T/Token-Required.png)](https://postimg.cc/gXWX2M1k)\n",
    "\n",
    "This is an authentication function to ensure user has permissions to continue\n",
    "\n",
    "**200 Code**\n",
    "[![200code.png](https://i.postimg.cc/1zX652bT/200code.png)](https://postimg.cc/mcxhmXLN)\n",
    "\n",
    "This is what happens when all user inputs are correct and login is successful\n",
    "\n",
    "**400 Code**\n",
    "[![400code.png](https://i.postimg.cc/8PG6rjqL/400code.png)](https://postimg.cc/23H6s8j5)\n",
    "\n",
    "This is what happens when the password for example is incorrect. Login is unsuccessful due to invalid user id or password"
   ]
  },
  {
   "cell_type": "code",
   "execution_count": null,
   "metadata": {},
   "outputs": [],
   "source": []
  },
  {
   "cell_type": "code",
   "execution_count": null,
   "metadata": {},
   "outputs": [],
   "source": [
    "api.add_resource(HousePriceAPI, '/predict')\n"
   ]
  },
  {
   "cell_type": "code",
   "execution_count": null,
   "metadata": {},
   "outputs": [],
   "source": []
  },
  {
   "cell_type": "markdown",
   "metadata": {},
   "source": [
    "## Frontend Work"
   ]
  },
  {
   "cell_type": "markdown",
   "metadata": {},
   "source": [
    "These are the same error codes but in network using inspect element on chrome"
   ]
  },
  {
   "cell_type": "markdown",
   "metadata": {},
   "source": [
    "**Successful Authentication (200 Code)**\n",
    "[![FrontendLogin](https://i.postimg.cc/FR12pr8Z/Screenshot-2024-04-17-at-10-55-51-PM.png)](https://postimg.cc/ZBt7KSTB)\n",
    "[![Frontend200Code](https://i.postimg.cc/W1MYwF3j/Screenshot-2024-04-17-at-10-54-22-PM.png)](https://postimg.cc/VJkFYNnH)\n",
    "\n",
    "**Unsuccessful Authentication (400 Code)**\n",
    "[![FrontendWrongLogin](https://i.postimg.cc/4dmxcT5C/Screenshot-2024-04-17-at-11-02-53-PM.png)](https://postimg.cc/BLf3WkkN)\n",
    "[![Frontend400Code](https://i.postimg.cc/zvT5wDHQ/Screenshot-2024-04-17-at-11-04-05-PM.png)](https://postimg.cc/QKNRh3bg)"
   ]
  },
  {
   "cell_type": "markdown",
   "metadata": {},
   "source": [
    "## This is the model for the house prices machine learning model. I used linear regression on generated data in the  CSV file to predict the final house price as the predicted_price variable, then printed for the user.\n",
    "\n"
   ]
  },
  {
   "cell_type": "code",
   "execution_count": null,
   "metadata": {},
   "outputs": [],
   "source": [
    "from flask import Flask, request, jsonify\n",
    "from flask import Blueprint\n",
    "from flask_restful import Api, Resource\n",
    "import seaborn as sns\n",
    "import pandas as pd\n",
    "from sklearn.preprocessing import OneHotEncoder\n",
    "from sklearn.linear_model import LogisticRegression\n",
    "import numpy as np\n",
    "import pandas as pd\n",
    "from sklearn.linear_model import LinearRegression\n",
    "import pickle\n",
    "\n",
    "house_price_api = Blueprint('house_price_api', __name__, url_prefix='/api/house_price')\n",
    "api = Api(house_price_api)\n",
    "\n",
    "class HousePriceAPI(Resource):\n",
    "    def __init__(self):\n",
    "        # Load the dataset\n",
    "        data = pd.read_csv('house_prices.csv')\n",
    "        \n",
    "        # Preprocessing and feature selection/engineering\n",
    "        # Remove the 'furnishingstatus' column\n",
    "        X = data.drop(['price', 'furnishingstatus'], axis=1)\n",
    "        y = data['price']\n",
    "        \n",
    "        # Train the model\n",
    "        self.model = LinearRegression()\n",
    "        self.model.fit(X, y)\n",
    "\n",
    "    def preprocess_inputs(self, area, bedrooms, bathrooms, stories, mainroad, guestroom, basement, hotwaterheating, airconditioning, parking, prefarea):\n",
    "        # Convert 'yes' or 'no' inputs to 1 or 0\n",
    "        mainroad = 1 if mainroad.lower() == 'yes' else 0\n",
    "        guestroom = 1 if guestroom.lower() == 'yes' else 0\n",
    "        basement = 1 if basement.lower() == 'yes' else 0\n",
    "        hotwaterheating = 1 if hotwaterheating.lower() == 'yes' else 0\n",
    "        airconditioning = 1 if airconditioning.lower() == 'yes' else 0\n",
    "        parking = 1 if parking.lower() == 'yes' else 0\n",
    "        prefarea = 1 if prefarea.lower() == 'yes' else 0\n",
    "        \n",
    "        return area, bedrooms, bathrooms, stories, mainroad, guestroom, basement, hotwaterheating, airconditioning, parking, prefarea\n",
    "\n",
    "    def predict_house_price(self, area, bedrooms, bathrooms, stories, mainroad, guestroom, basement, hotwaterheating, airconditioning, parking, prefarea):\n",
    "        # Prepare input data\n",
    "        input_data = pd.DataFrame({\n",
    "            'area': [area],\n",
    "            'bedrooms': [bedrooms],\n",
    "            'bathrooms': [bathrooms],\n",
    "            'stories': [stories],\n",
    "            'mainroad': [mainroad],\n",
    "            'guestroom': [guestroom],\n",
    "            'basement': [basement],\n",
    "            'hotwaterheating': [hotwaterheating],\n",
    "            'airconditioning': [airconditioning],\n",
    "            'parking': [parking],\n",
    "            'prefarea': [prefarea]\n",
    "        })\n",
    "        \n",
    "        # Make prediction\n",
    "        predicted_price = self.model.predict(input_data)\n",
    "        return predicted_price[0]\n",
    "\n",
    "    def post(self):\n",
    "        try:\n",
    "            # Get data from request\n",
    "            data = request.json\n",
    "            # Extract features\n",
    "            area = data['area']\n",
    "            bedrooms = data['bedrooms']\n",
    "            bathrooms = data['bathrooms']\n",
    "            stories = data['stories']\n",
    "            mainroad = data['mainroad']\n",
    "            guestroom = data['guestroom']\n",
    "            basement = data['basement']\n",
    "            hotwaterheating = data['hotwaterheating']\n",
    "            airconditioning = data['airconditioning']\n",
    "            parking = data['parking']\n",
    "            prefarea = data['prefarea']\n",
    "            # Preprocess inputs\n",
    "            area, bedrooms, bathrooms, stories, mainroad, guestroom, basement, hotwaterheating, airconditioning, parking, prefarea = self.preprocess_inputs(area, bedrooms, bathrooms, stories, mainroad, guestroom, basement, hotwaterheating, airconditioning, parking, prefarea)\n",
    "            # Predict house price\n",
    "            predicted_price = self.predict_house_price(area, bedrooms, bathrooms, stories, mainroad, guestroom, basement, hotwaterheating, airconditioning, parking, prefarea)\n",
    "            predicted_price = predicted_price/10\n",
    "            predicted_price = round(predicted_price, 2)\n",
    "\n",
    "            return jsonify({'predicted_price': predicted_price })\n",
    "        except Exception as e:\n",
    "            return jsonify({'error': str(e)})\n",
    "\n",
    "api.add_resource(HousePriceAPI, '/predict')\n",
    "\n",
    "\n"
   ]
  }
 ],
 "metadata": {
  "language_info": {
   "name": "python"
  }
 },
 "nbformat": 4,
 "nbformat_minor": 2
}
