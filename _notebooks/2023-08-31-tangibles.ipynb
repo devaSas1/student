{
 "cells": [
  {
   "cell_type": "markdown",
   "metadata": {},
   "source": [
    "---\n",
    "title: Week 2 tangibles\n",
    "layout: post\n",
    "description: A lot of crap went down lmao\n",
    "type: tangibles\n",
    "categories: [C1.4]\n",
    "courses: { compsci: {week: 2}}\n",
    "---"
   ]
  },
  {
   "cell_type": "markdown",
   "metadata": {},
   "source": [
    "## Week 2 summary\n",
    "This week, I faced a lot of challenges, ranging from combating the make command refusing to work to getting my calculator to not look like an ugly string of text. I learned a lot about how css and scss works and I learned how to use the inspect element tool as a shortcut to solve several issues.\n",
    "![](images/braindamage.png)"
   ]
  }
 ],
 "metadata": {
  "language_info": {
   "name": "python"
  },
  "orig_nbformat": 4
 },
 "nbformat": 4,
 "nbformat_minor": 2
}
