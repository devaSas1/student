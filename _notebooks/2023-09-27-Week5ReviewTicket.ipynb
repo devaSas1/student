{
 "cells": [
  {
   "cell_type": "markdown",
   "metadata": {},
   "source": [
    "---\n",
    "toc: true\n",
    "comments: true\n",
    "layout: post\n",
    "title: Peer Grade Ticket\n",
    "description: Ticket.\n",
    "type: tangibles\n",
    "courses: { compsci: {week: 5} }\n",
    "categories: [C1.4]\n",
    "---"
   ]
  },
  {
   "cell_type": "markdown",
   "metadata": {},
   "source": [
    "## Feedback for Srini\n",
    "\n",
    "Srini has completed all of the hacks for this week and demonstrated his creativity with his code. Only thing is presentation could have been a little more organized, but in general he knew what he was talking about. "
   ]
  }
 ],
 "metadata": {
  "language_info": {
   "name": "python"
  },
  "orig_nbformat": 4
 },
 "nbformat": 4,
 "nbformat_minor": 2
}
