{
 "cells": [
  {
   "cell_type": "markdown",
   "metadata": {},
   "source": [
    "---\n",
    "toc: true\n",
    "comments: false\n",
    "layout: post\n",
    "title: College Board MC review\n",
    "description: All questions wrong in MC\n",
    "type: hacks\n",
    "courses: { compsci: {week: 13} }\n",
    "---\n"
   ]
  },
  {
   "cell_type": "markdown",
   "metadata": {},
   "source": [
    "# College Board CSP - Review of Incorrect Answers\n",
    "\n",
    "## Overview\n",
    "- **Total Questions**: `67`\n",
    "- **Questions Attempted**: `67`\n",
    "- **Questions Incorrect**: `6`\n",
    "\n",
    "---\n",
    "\n",
    "## Question Breakdown\n",
    "\n",
    "### Question 4\n",
    "- **Answer**: `D: While fractions are sometimes represented by decimal approximations that are subject to rounding errors, integers are not.`\n",
    "\n",
    "### Question 6\n",
    "- **Answer**: `C: Both program I and program II correctly move the robot to the gray square..`\n",
    "\n",
    "### Question 7\n",
    "- **Answer**: `C: Flight simulation software provides a more realistic experience for pilots than actual training flights.`\n",
    "\n",
    "### Question 18\n",
    "- **Answer**: `B`\n",
    "\n",
    "### Question 53\n",
    "- **Answer**: `C: A mobile application that allows users to report the location of a pet that appears to be lost and upload a photo that is made available to other users of the application`\n",
    "\n",
    "### Question 59\n",
    "- **Answer**: `C: The original developer of open-source software provides free or low-cost support for users installing and running the software.`\n",
    "\n"
   ]
  }
 ],
 "metadata": {
  "language_info": {
   "name": "python"
  }
 },
 "nbformat": 4,
 "nbformat_minor": 2
}
