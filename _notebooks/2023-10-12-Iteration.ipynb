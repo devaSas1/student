{
 "cells": [
  {
   "cell_type": "code",
   "execution_count": null,
   "metadata": {},
   "outputs": [],
   "source": [
    "values = [\"word\",2, \"no\",62623]\n",
    "for i in values:\n",
    "    try:\n",
    "        print(i+0)\n",
    "    except:\n",
    "        print(\"not a number\")\n"
   ]
  },
  {
   "cell_type": "code",
   "execution_count": 1,
   "metadata": {},
   "outputs": [
    {
     "name": "stdout",
     "output_type": "stream",
     "text": [
      "HelloWorld!\r"
     ]
    }
   ],
   "source": [
    "\n",
    "import time\n",
    "text = [\"H\", \"e\", \"l\", \"l\", \"o\", \"W\", \"o\", \"r\", \"l\", \"d\", \"!\"]\n",
    "toPrint = \"\"\n",
    "for x in range(0, len(text)):\n",
    "    toPrint += text[x]\n",
    "    print(toPrint, end=\"\\r\")\n",
    "    time.sleep(0.4)"
   ]
  },
  {
   "cell_type": "code",
   "execution_count": null,
   "metadata": {},
   "outputs": [],
   "source": [
    "t = 0\n",
    "def recursion(n):\n",
    "    if t<=n:\n",
    "        "
   ]
  },
  {
   "cell_type": "code",
   "execution_count": 2,
   "metadata": {},
   "outputs": [
    {
     "name": "stdout",
     "output_type": "stream",
     "text": [
      "Element 1 not found in the array\n"
     ]
    }
   ],
   "source": [
    "def is_palindrome(input_string):\n",
    "    return input_string == input_string[::-1]\n",
    "    input_string = input(\"Enter a string: \")\n",
    "    if is_palindrome(input_string) == True:\n",
    "        print(f\"{input_string} is a palindrome.\")\n",
    "    else:\n",
    "        print(f\"{input_string} is not a palindrome.\")\n",
    "\n",
    "def binary_search(arr, target):\n",
    "    left = 0\n",
    "    right = len(arr) - 1\n",
    "    while left <= right:\n",
    "        mid = (left + right) // 2\n",
    "        mid_value = arr[mid]\n",
    "        if mid_value == target:\n",
    "            return mid\n",
    "        elif mid_value < target:\n",
    "            left = mid + 1\n",
    "        else:\n",
    "            right = mid - 1\n",
    "        return -1\n",
    "arr = [1, 3, 5, 7, 9, 11, 13]\n",
    "target = 1\n",
    "result = binary_search(arr, target)\n",
    "if result != -1:\n",
    "    print(f\"Element {target} found at index {result}\")\n",
    "else:\n",
    "    print(f\"Element {target} not found in the array\")"
   ]
  },
  {
   "cell_type": "code",
   "execution_count": 1,
   "metadata": {},
   "outputs": [
    {
     "name": "stdout",
     "output_type": "stream",
     "text": [
      "Born\n",
      "Learn\n",
      "Make Money\n",
      "Buy House\n",
      "Retire\n"
     ]
    }
   ],
   "source": [
    "def describe_life_stage(stage, max_stage):\n",
    "    life_stages = [\"Born\", \"Learn\", \"Make Money\", \"Buy House\", \"Retire\"]\n",
    "    \n",
    "    # Base case: when stage equals max_stage\n",
    "    if stage == max_stage:\n",
    "        print(life_stages[stage])\n",
    "        return\n",
    "    \n",
    "    # Recursive case\n",
    "    print(life_stages[stage])\n",
    "    describe_life_stage(stage + 1, max_stage)\n",
    "\n",
    "# Call the function starting from stage 0\n",
    "describe_life_stage(0, 4)\n"
   ]
  }
 ],
 "metadata": {
  "kernelspec": {
   "display_name": "Python 3",
   "language": "python",
   "name": "python3"
  },
  "language_info": {
   "codemirror_mode": {
    "name": "ipython",
    "version": 3
   },
   "file_extension": ".py",
   "mimetype": "text/x-python",
   "name": "python",
   "nbconvert_exporter": "python",
   "pygments_lexer": "ipython3",
   "version": "3.11.4"
  }
 },
 "nbformat": 4,
 "nbformat_minor": 2
}
