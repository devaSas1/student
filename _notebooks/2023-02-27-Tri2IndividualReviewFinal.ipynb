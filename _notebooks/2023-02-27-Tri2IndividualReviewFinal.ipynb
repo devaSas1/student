{
 "cells": [
  {
   "cell_type": "markdown",
   "metadata": {},
   "source": [
    "---\n",
    "toc: true\n",
    "comments: true\n",
    "layout: post\n",
    "title: Inidividual Tri 2 Review\n",
    "description: A reflection of my role in the CPT \n",
    "type: hacks\n",
    "courses: { compsci: {week: 22} }\n",
    "---\n"
   ]
  },
  {
   "cell_type": "markdown",
   "metadata": {},
   "source": [
    "### Description Of The Project\n",
    "\n",
    "Our group's goal was to make an image editing app and painting app, and then connect the service to a login system / user database that would allow them to share their artwork. The front end is based in HTML, Javascript, and CSS, and the backend is based in Python through Flask. The authentication between the two is done by JWT, or Json Web Tokens.\n",
    "\n",
    "Our team as a whole worked on the front end to develop the features of the website, and one of my more experienced teammates would provide helpful advice that would help us develop better as developers. I worked on the main website frontend and styling as well as making the posting feature, where users can post photos live on the website. \n"
   ]
  },
  {
   "cell_type": "markdown",
   "metadata": {},
   "source": [
    "### My Contributions\n",
    "\n",
    "My contributions can be generalized into the following key aspects.\n",
    "- I contributed most of the front end work, the frontend for the image board, and worked in parallel with a teammate on the image board.\n",
    "- I have a few commits such as making the front end of the project, various styling changes, etc.\n"
   ]
  },
  {
   "cell_type": "markdown",
   "metadata": {},
   "source": [
    "**College Board Requirement Breakdown:**\n",
    "\n",
    "| CollegeBoard Requirement | My Work | Image |\n",
    "|---|---|---|\n",
    "| Instructions for input | Script for creating and posting images. | ![](/student/images/csptri2final(input).png) |\n",
    "| List usage | data.posts accesses an array from server containing a collection of user posts  | ![](/student/images/csptri2final(lists).png) |\n",
    "| Procedure with parameters | Script for post submission. | ![](/student/images/csptri2final(procedure).png) |\n",
    "| Algorithm with sequencing, selection, and iteration | Script for image board functionality, fetching paginated data from the server. | ![](/student/images/csptri2final(algorithm).png) |\n",
    "| Student-developed procedure calls | Opens the post creation menu and displays user information. | ![](/student/images/csptri2final(studentprocedure).png) |\n",
    "| Output based on input and functionality | Closes the post creation menu | ![](/student/images/csptri2final(output).png) |\n",
    "\n"
   ]
  },
  {
   "cell_type": "markdown",
   "metadata": {},
   "source": [
    "**My Video:**\n",
    "\n",
    "[Click Here](https://drive.google.com/file/d/1LZ_vrfFAgupXxwy5nsIIPT19IOgaH03z/view?usp=sharing)\n",
    "\n"
   ]
  },
  {
   "cell_type": "markdown",
   "metadata": {},
   "source": [
    "**Video Requirement Breakdown:**\n",
    "\n",
    "| CollegeBoard Requirement | My Work |\n",
    "|---|---|\n",
    "| Input to program | Selecting upload file and inputting image. |\n",
    "| Functionality | Art programs and image board as a social media service. |\n",
    "| Output | Output of picture with comment updated on website in real time. |\n",
    "| Voice narration | Not included. |\n",
    "| Video format | .mp4 |\n",
    "\n"
   ]
  },
  {
   "cell_type": "markdown",
   "metadata": {},
   "source": []
  }
 ],
 "metadata": {
  "language_info": {
   "name": "python"
  }
 },
 "nbformat": 4,
 "nbformat_minor": 2
}
